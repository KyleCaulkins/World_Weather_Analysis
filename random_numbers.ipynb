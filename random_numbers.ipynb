{
 "cells": [
  {
   "cell_type": "code",
   "execution_count": 1,
   "id": "9825faf4",
   "metadata": {},
   "outputs": [],
   "source": [
    "#Import the random module\n",
    "import random"
   ]
  },
  {
   "cell_type": "code",
   "execution_count": 2,
   "id": "fe75dbe9",
   "metadata": {},
   "outputs": [
    {
     "data": {
      "text/plain": [
       "-19"
      ]
     },
     "execution_count": 2,
     "metadata": {},
     "output_type": "execute_result"
    }
   ],
   "source": [
    "random.randint(-90,90)"
   ]
  },
  {
   "cell_type": "code",
   "execution_count": 3,
   "id": "f9478578",
   "metadata": {},
   "outputs": [
    {
     "data": {
      "text/plain": [
       "0.15652571361705947"
      ]
     },
     "execution_count": 3,
     "metadata": {},
     "output_type": "execute_result"
    }
   ],
   "source": [
    "random.random()"
   ]
  },
  {
   "cell_type": "code",
   "execution_count": 4,
   "id": "75125c85",
   "metadata": {},
   "outputs": [
    {
     "data": {
      "text/plain": [
       "[-66.66782408031082,\n",
       " -5.8305033576397385,\n",
       " 85.72969549082731,\n",
       " -44.9727321024076,\n",
       " 43.718545158387634,\n",
       " 16.62411688442157,\n",
       " 65.9798459809324,\n",
       " 43.826745406606726,\n",
       " 82.49049739687972,\n",
       " -87.60640570723233]"
      ]
     },
     "execution_count": 4,
     "metadata": {},
     "output_type": "execute_result"
    }
   ],
   "source": [
    "x=1\n",
    "latitudes=[]\n",
    "while x<11:\n",
    "    random_lat=random.randint(-90,89)+random.random()\n",
    "    latitudes.append(random_lat)\n",
    "    x+=1\n",
    "latitudes"
   ]
  },
  {
   "cell_type": "code",
   "execution_count": 5,
   "id": "727d7af7",
   "metadata": {},
   "outputs": [
    {
     "data": {
      "text/plain": [
       "15"
      ]
     },
     "execution_count": 5,
     "metadata": {},
     "output_type": "execute_result"
    }
   ],
   "source": [
    "random.randrange(-90,90,step=1)"
   ]
  },
  {
   "cell_type": "code",
   "execution_count": 6,
   "id": "9bb4c639",
   "metadata": {},
   "outputs": [
    {
     "data": {
      "text/plain": [
       "-78"
      ]
     },
     "execution_count": 6,
     "metadata": {},
     "output_type": "execute_result"
    }
   ],
   "source": [
    "random.randrange(-90,90,step=3)"
   ]
  },
  {
   "cell_type": "code",
   "execution_count": 7,
   "id": "97dbdb82",
   "metadata": {},
   "outputs": [
    {
     "data": {
      "text/plain": [
       "-70.59112787136216"
      ]
     },
     "execution_count": 7,
     "metadata": {},
     "output_type": "execute_result"
    }
   ],
   "source": [
    "random.uniform(-90,90)"
   ]
  },
  {
   "cell_type": "code",
   "execution_count": 8,
   "id": "b08994d4",
   "metadata": {},
   "outputs": [],
   "source": [
    "#Import the NumPy module\n",
    "import numpy as np"
   ]
  },
  {
   "cell_type": "code",
   "execution_count": 9,
   "id": "f6859648",
   "metadata": {},
   "outputs": [
    {
     "data": {
      "text/plain": [
       "80.11073953960386"
      ]
     },
     "execution_count": 9,
     "metadata": {},
     "output_type": "execute_result"
    }
   ],
   "source": [
    "np.random.uniform(-90,90)"
   ]
  },
  {
   "cell_type": "code",
   "execution_count": 10,
   "id": "46c92afd",
   "metadata": {},
   "outputs": [
    {
     "data": {
      "text/plain": [
       "array([-81.55714465, -86.91090549,  39.24272809,  33.6424143 ,\n",
       "        85.424105  , -64.65138882, -67.39694705,  51.42047764,\n",
       "         9.47892997, -15.05182626,  60.31451233, -31.43950908,\n",
       "       -49.60351446, -47.18263704,  25.3793767 ,  81.5259347 ,\n",
       "        78.148034  , -50.00677318, -32.73393564,   4.06926038,\n",
       "       -34.92925747, -63.97913211,   1.8515217 ,  63.01647522,\n",
       "        83.91429013, -59.55297505,  -7.55758942,  81.57166783,\n",
       "       -49.44477518,  28.90050385, -78.35345953,  85.40887629,\n",
       "       -18.23435539, -80.96714292, -37.16503109,   9.82093609,\n",
       "       -57.93303597, -60.61606238, -18.31927788, -54.08699605,\n",
       "       -63.24932494, -39.02891177, -66.67459214, -49.75333737,\n",
       "        16.7992965 ,  80.75812032, -51.81933584, -14.72973743,\n",
       "       -55.53784393, -67.50007653])"
      ]
     },
     "execution_count": 10,
     "metadata": {},
     "output_type": "execute_result"
    }
   ],
   "source": [
    "np.random.uniform(-90,90,size=50)"
   ]
  },
  {
   "cell_type": "code",
   "execution_count": 11,
   "id": "88fb3d8b",
   "metadata": {},
   "outputs": [],
   "source": [
    "#Import timeit\n",
    "import timeit"
   ]
  },
  {
   "cell_type": "code",
   "execution_count": 12,
   "id": "7b7c6bb1",
   "metadata": {},
   "outputs": [
    {
     "name": "stdout",
     "output_type": "stream",
     "text": [
      "14.9 µs ± 242 ns per loop (mean ± std. dev. of 7 runs, 100000 loops each)\n"
     ]
    }
   ],
   "source": [
    "%timeit np.random.uniform(-90.000, 90.000, size=1500)"
   ]
  },
  {
   "cell_type": "code",
   "execution_count": 15,
   "id": "c41ff37c",
   "metadata": {},
   "outputs": [],
   "source": [
    "#def latitudes(size):\n",
    "    #latitudes = []\n",
    "    #x = 0\n",
    "    #while x < (size):\n",
    "        #random_lat = random.randint(-90, 90) + random.random()\n",
    "        #latitudes.append(random_lat)\n",
    "       # x += 1\n",
    "   # return latitudes\n",
    "# Call the function with 1500.\n",
    "#%timeit latitudes(1500)"
   ]
  },
  {
   "cell_type": "code",
   "execution_count": 20,
   "id": "ea7ff2d3",
   "metadata": {},
   "outputs": [
    {
     "name": "stdout",
     "output_type": "stream",
     "text": [
      "23.6 ns ± 1.48 ns per loop (mean ± std. dev. of 7 runs, 10000000 loops each)\n"
     ]
    }
   ],
   "source": [
    "#Skill Drill\n",
    "def latitudes(size):\n",
    "    latitudes = []\n",
    "    x = 0\n",
    "    for x in size:\n",
    "        random_lat=random.randint(-90,90)+random.random()\n",
    "        lattitudes.append(random_lat)\n",
    "        if x==1499:\n",
    "            break\n",
    "%timeit latitudes"
   ]
  },
  {
   "cell_type": "code",
   "execution_count": null,
   "id": "12126246",
   "metadata": {},
   "outputs": [],
   "source": []
  }
 ],
 "metadata": {
  "kernelspec": {
   "display_name": "Python 3",
   "language": "python",
   "name": "python3"
  },
  "language_info": {
   "codemirror_mode": {
    "name": "ipython",
    "version": 3
   },
   "file_extension": ".py",
   "mimetype": "text/x-python",
   "name": "python",
   "nbconvert_exporter": "python",
   "pygments_lexer": "ipython3",
   "version": "3.7.10"
  }
 },
 "nbformat": 4,
 "nbformat_minor": 5
}
